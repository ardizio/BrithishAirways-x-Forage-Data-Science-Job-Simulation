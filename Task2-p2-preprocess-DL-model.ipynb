{
 "cells": [
  {
   "cell_type": "code",
   "execution_count": null,
   "metadata": {},
   "outputs": [],
   "source": [
    "# pip install gensim\n",
    "# pip install scikit-learn\n",
    "# pip install torch torchvision torchaudio -f https://download.pytorch.org/whl/torch_stable.html"
   ]
  },
  {
   "cell_type": "code",
   "execution_count": 3,
   "metadata": {},
   "outputs": [
    {
     "data": {
      "text/plain": [
       "' #CUDA\\nif torch.cuda.is_available():\\n    device = torch.device(\"cuda\")\\n    print(\"Using GPU for computation.\")\\n    # Get the number of available GPUs\\n    num_gpus = torch.cuda.device_count()\\n    print(\"Number of available GPUs:\", num_gpus)\\nelse:\\n    device = torch.device(\"cpu\")\\n    print(\"Using CPU.\") \\n'"
      ]
     },
     "execution_count": 3,
     "metadata": {},
     "output_type": "execute_result"
    }
   ],
   "source": [
    "import os\n",
    "import datetime\n",
    "import numpy as np\n",
    "import pandas as pd\n",
    "import torch\n",
    "import torch.nn as nn\n",
    "import torch.optim as optim\n",
    "import torch.nn.functional as F\n",
    "from torch.utils.data import Dataset, DataLoader\n",
    "from sklearn.model_selection import train_test_split\n",
    "from gensim.models import Word2Vec\n",
    "\n",
    "\n",
    "device = torch.device(\"cuda:0\")\n",
    "\n",
    "\"\"\" #CUDA\n",
    "if torch.cuda.is_available():\n",
    "    device = torch.device(\"cuda\")\n",
    "    print(\"Using GPU for computation.\")\n",
    "    # Get the number of available GPUs\n",
    "    num_gpus = torch.cuda.device_count()\n",
    "    print(\"Number of available GPUs:\", num_gpus)\n",
    "else:\n",
    "    device = torch.device(\"cpu\")\n",
    "    print(\"Using CPU.\") \n",
    "\"\"\""
   ]
  },
  {
   "cell_type": "code",
   "execution_count": 5,
   "metadata": {},
   "outputs": [
    {
     "name": "stdout",
     "output_type": "stream",
     "text": [
      "<class 'pandas.core.frame.DataFrame'>\n",
      "RangeIndex: 50000 entries, 0 to 49999\n",
      "Data columns (total 14 columns):\n",
      " #   Column                 Non-Null Count  Dtype  \n",
      "---  ------                 --------------  -----  \n",
      " 0   num_passengers         50000 non-null  int64  \n",
      " 1   sales_channel          50000 non-null  object \n",
      " 2   trip_type              50000 non-null  object \n",
      " 3   purchase_lead          50000 non-null  int64  \n",
      " 4   length_of_stay         50000 non-null  int64  \n",
      " 5   flight_hour            50000 non-null  int64  \n",
      " 6   flight_day             50000 non-null  int64  \n",
      " 7   route                  50000 non-null  object \n",
      " 8   booking_origin         50000 non-null  object \n",
      " 9   wants_extra_baggage    50000 non-null  int64  \n",
      " 10  wants_preferred_seat   50000 non-null  int64  \n",
      " 11  wants_in_flight_meals  50000 non-null  int64  \n",
      " 12  flight_duration        50000 non-null  float64\n",
      " 13  booking_complete       50000 non-null  int64  \n",
      "dtypes: float64(1), int64(9), object(4)\n",
      "memory usage: 5.3+ MB\n"
     ]
    }
   ],
   "source": [
    "# Load preprocessed datasate into pandas Dataframe\n",
    "df = pd.read_csv(\"data/t2p1-customer_booking_mapped.csv\", encoding=\"ISO-8859-1\")\n",
    "df.info()"
   ]
  },
  {
   "cell_type": "code",
   "execution_count": null,
   "metadata": {},
   "outputs": [],
   "source": [
    "# in Task2-p1-initial-EDA\n",
    "''' \n",
    "mapping = {\n",
    "    \"Mon\": 1,\n",
    "    \"Tue\": 2,\n",
    "    \"Wed\": 3,\n",
    "    \"Thu\": 4,\n",
    "    \"Fri\": 5,\n",
    "    \"Sat\": 6,\n",
    "    \"Sun\": 7,\n",
    "}\n",
    "\n",
    "df[\"flight_day\"] = df[\"flight_day\"].map(mapping)\n",
    "'''"
   ]
  },
  {
   "cell_type": "markdown",
   "metadata": {},
   "source": [
    "# Pipeline Creation\n",
    "## Hot Encoding"
   ]
  },
  {
   "cell_type": "code",
   "execution_count": 3,
   "metadata": {},
   "outputs": [],
   "source": [
    "# Function to one-hot encode 'sales_channel' column\n",
    "def transform_sales_channel(df):\n",
    "    one_hot_encoded = pd.get_dummies(df['sales_channel'], prefix='sales_channel_HOT')\n",
    "    return pd.concat([df, one_hot_encoded], axis=1)\n",
    "\n",
    "# Function to one-hot encode 'trip_type' column\n",
    "def transform_trip_type(df):\n",
    "    one_hot_encoded = pd.get_dummies(df['trip_type'], prefix='trip_type_HOT')\n",
    "    return pd.concat([df, one_hot_encoded], axis=1)\n",
    "\n",
    "\n",
    "# Apply HOT ENCODING transformations\n",
    "if 'sales_channel' in df:\n",
    "    df = transform_sales_channel(df)\n",
    "    df = df.drop('sales_channel', axis=1)\n",
    "if 'trip_type' in df:\n",
    "    df = transform_trip_type(df)\n",
    "    df = df.drop('trip_type', axis=1)\n"
   ]
  },
  {
   "cell_type": "markdown",
   "metadata": {},
   "source": [
    "## Word Embedddings"
   ]
  },
  {
   "cell_type": "code",
   "execution_count": 4,
   "metadata": {},
   "outputs": [],
   "source": [
    "if 'route_part1' not in df and 'route_part2' not in df:\n",
    "    # Split the 'route' column into two separate columns\n",
    "    df['route_part1'] = df['route'].str[:3]\n",
    "    df['route_part2'] = df['route'].str[-3:]\n",
    "    # Get unique values from 'route_part1' and 'route_part2'\n",
    "    unique_values_part1 = df['route_part1'].unique().tolist()\n",
    "    unique_values_part2 = df['route_part2'].unique().tolist()\n",
    "    # Combine the unique values from both columns\n",
    "    combined_unique_values = unique_values_part1 + unique_values_part2\n",
    "    # Get the unique values from the combined list and assign to 'unique_route_ICAO'\n",
    "    unique_route_ICAO = list(set(combined_unique_values))\n",
    "    #print(unique_route_ICAO)\n",
    "\n",
    "    # route\n",
    "    unique_route = df['route'].unique().tolist()\n",
    "    #print(unique_route)\n",
    "\n",
    "    # booking_origin\n",
    "    unique_booking_origin = df['booking_origin'].unique().tolist()\n",
    "    #print(unique_booking_origin)"
   ]
  },
  {
   "cell_type": "code",
   "execution_count": 5,
   "metadata": {},
   "outputs": [],
   "source": [
    "if os.path.isfile(\"Word2Vec_model_route\") and os.path.isfile(\"Word2Vec_model_route_ICAO\") and os.path.isfile(\"Word2Vec_model_booking_origin\"):\n",
    "    # Check if the models exist\n",
    "    # Load the existing models\n",
    "    model_route = Word2Vec.load(\"Word2Vec_model_route\")\n",
    "    model_route_ICAO = Word2Vec.load(\"Word2Vec_model_route_ICAO\")\n",
    "    model_booking_origin = Word2Vec.load(\"Word2Vec_model_booking_origin\")\n",
    "else:\n",
    "    # Create and train a Word2Vec model for route\n",
    "    model_route = Word2Vec(sentences=[unique_route], vector_size=1, window=5, min_count=1, sg=0)\n",
    "    model_route.save(\"Word2Vec_model_route\")\n",
    "\n",
    "    # Create and train a Word2Vec model for route_ICAO\n",
    "    model_route_ICAO = Word2Vec(sentences=[unique_route_ICAO], vector_size=1, window=5, min_count=1, sg=0)\n",
    "    model_route_ICAO.save(\"Word2Vec_model_route_ICAO\")\n",
    "\n",
    "    # Create and train a Word2Vec model for booking_origin\n",
    "    model_booking_origin = Word2Vec(sentences=[unique_booking_origin], vector_size=1, window=5, min_count=1, sg=0)\n",
    "    model_booking_origin.save(\"Word2Vec_model_booking_origin\")\n",
    "\n",
    "\n",
    "def get_word_embedding_vector(model, word):\n",
    "    if word in model.wv:\n",
    "        return model.wv[word]  # Word found, return its embedding\n",
    "    else:\n",
    "        return 0  # Word not found, return an error number (0 in this example)\n",
    "    \n",
    "def get_word_embedding_float(model, word):\n",
    "    if word in model.wv:\n",
    "        return model.wv[word][0]  # Return the first element of the word embedding list \n",
    "    else:\n",
    "        return 0  # Return 0 if the word is not found"
   ]
  },
  {
   "cell_type": "code",
   "execution_count": 6,
   "metadata": {},
   "outputs": [],
   "source": [
    "def transform_string_to_ints(df):\n",
    "    # Convert the 'booking_origin' column using model_booking_origin\n",
    "    df['booking_origin'] = df['booking_origin'].apply(lambda x: get_word_embedding_float(model_booking_origin, x))\n",
    "\n",
    "    # Convert the 'route_part2' column using model_route_ICAO\n",
    "    df['route_part2'] = df['route_part2'].apply(lambda x: get_word_embedding_float(model_route_ICAO, x))\n",
    "\n",
    "    # Convert the 'route_part1' column using model_route_ICAO\n",
    "    df['route_part1'] = df['route_part1'].apply(lambda x: get_word_embedding_float(model_route_ICAO, x))\n",
    "\n",
    "    # Convert the 'route' column using model_route\n",
    "    df['route'] = df['route'].apply(lambda x: get_word_embedding_float(model_route, x))\n",
    "\n",
    "\n",
    "transform_string_to_ints(df)"
   ]
  },
  {
   "cell_type": "code",
   "execution_count": 7,
   "metadata": {},
   "outputs": [
    {
     "name": "stdout",
     "output_type": "stream",
     "text": [
      "<class 'pandas.core.frame.DataFrame'>\n",
      "RangeIndex: 50000 entries, 0 to 49999\n",
      "Data columns (total 19 columns):\n",
      " #   Column                      Non-Null Count  Dtype  \n",
      "---  ------                      --------------  -----  \n",
      " 0   num_passengers              50000 non-null  int64  \n",
      " 1   purchase_lead               50000 non-null  int64  \n",
      " 2   length_of_stay              50000 non-null  int64  \n",
      " 3   flight_hour                 50000 non-null  int64  \n",
      " 4   flight_day                  50000 non-null  int64  \n",
      " 5   route                       50000 non-null  float32\n",
      " 6   booking_origin              50000 non-null  float32\n",
      " 7   wants_extra_baggage         50000 non-null  int64  \n",
      " 8   wants_preferred_seat        50000 non-null  int64  \n",
      " 9   wants_in_flight_meals       50000 non-null  int64  \n",
      " 10  flight_duration             50000 non-null  float64\n",
      " 11  sales_channel_HOT_Internet  50000 non-null  bool   \n",
      " 12  sales_channel_HOT_Mobile    50000 non-null  bool   \n",
      " 13  trip_type_HOT_CircleTrip    50000 non-null  bool   \n",
      " 14  trip_type_HOT_OneWay        50000 non-null  bool   \n",
      " 15  trip_type_HOT_RoundTrip     50000 non-null  bool   \n",
      " 16  route_part1                 50000 non-null  float32\n",
      " 17  route_part2                 50000 non-null  float32\n",
      " 18  booking_complete            50000 non-null  int64  \n",
      "dtypes: bool(5), float32(4), float64(1), int64(9)\n",
      "memory usage: 4.8 MB\n"
     ]
    }
   ],
   "source": [
    "# Get the 'booking_complete' column\n",
    "booking_complete_column = df['booking_complete']\n",
    "# Drop the 'booking_complete' column from the DataFrame\n",
    "df = df.drop('booking_complete', axis=1)\n",
    "# Add the 'booking_complete' column as the last column\n",
    "df['booking_complete'] = booking_complete_column\n",
    "\n",
    "df.info()\n",
    "\n",
    "# Saving Datasett\n",
    "df.to_csv('data/t2p2-bool-numerical.csv', sep=\",\", index=False)"
   ]
  }
 ],
 "metadata": {
  "kernelspec": {
   "display_name": "Python 3.9.13 ('venv': venv)",
   "language": "python",
   "name": "python3"
  },
  "language_info": {
   "codemirror_mode": {
    "name": "ipython",
    "version": 3
   },
   "file_extension": ".py",
   "mimetype": "text/x-python",
   "name": "python",
   "nbconvert_exporter": "python",
   "pygments_lexer": "ipython3",
   "version": "3.11.6"
  },
  "orig_nbformat": 4,
  "vscode": {
   "interpreter": {
    "hash": "4f7924c4c56b083e0e50eadfe7ef592a7a8ef70df33a0047f82280e6be1afe15"
   }
  }
 },
 "nbformat": 4,
 "nbformat_minor": 2
}
