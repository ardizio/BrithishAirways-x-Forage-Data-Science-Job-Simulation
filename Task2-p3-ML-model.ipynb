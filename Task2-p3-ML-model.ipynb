{
 "cells": [
  {
   "cell_type": "code",
   "execution_count": 1,
   "metadata": {},
   "outputs": [],
   "source": [
    "# pip install gensim\n",
    "# pip install scikit-learn\n",
    "# pip install torch torchvision torchaudio -f https://download.pytorch.org/whl/torch_stable.html"
   ]
  },
  {
   "cell_type": "code",
   "execution_count": 2,
   "metadata": {},
   "outputs": [
    {
     "data": {
      "text/plain": [
       "' #CUDA\\nif torch.cuda.is_available():\\n    device = torch.device(\"cuda\")\\n    print(\"Using GPU for computation.\")\\n    # Get the number of available GPUs\\n    num_gpus = torch.cuda.device_count()\\n    print(\"Number of available GPUs:\", num_gpus)\\nelse:\\n    device = torch.device(\"cpu\")\\n    print(\"Using CPU.\") \\n'"
      ]
     },
     "execution_count": 2,
     "metadata": {},
     "output_type": "execute_result"
    }
   ],
   "source": [
    "import os\n",
    "import datetime\n",
    "import numpy as np\n",
    "import pandas as pd\n",
    "import torch\n",
    "import torch.nn as nn\n",
    "import torch.optim as optim\n",
    "import torch.nn.functional as F\n",
    "from torch.utils.data import Dataset, DataLoader\n",
    "from sklearn.model_selection import train_test_split\n",
    "from gensim.models import Word2Vec\n",
    "\n",
    "\n",
    "device = torch.device(\"cuda:0\")\n",
    "\n",
    "\"\"\" #CUDA\n",
    "if torch.cuda.is_available():\n",
    "    device = torch.device(\"cuda\")\n",
    "    print(\"Using GPU for computation.\")\n",
    "    # Get the number of available GPUs\n",
    "    num_gpus = torch.cuda.device_count()\n",
    "    print(\"Number of available GPUs:\", num_gpus)\n",
    "else:\n",
    "    device = torch.device(\"cpu\")\n",
    "    print(\"Using CPU.\") \n",
    "\"\"\""
   ]
  },
  {
   "cell_type": "code",
   "execution_count": 3,
   "metadata": {},
   "outputs": [
    {
     "data": {
      "text/html": [
       "<div>\n",
       "<style scoped>\n",
       "    .dataframe tbody tr th:only-of-type {\n",
       "        vertical-align: middle;\n",
       "    }\n",
       "\n",
       "    .dataframe tbody tr th {\n",
       "        vertical-align: top;\n",
       "    }\n",
       "\n",
       "    .dataframe thead th {\n",
       "        text-align: right;\n",
       "    }\n",
       "</style>\n",
       "<table border=\"1\" class=\"dataframe\">\n",
       "  <thead>\n",
       "    <tr style=\"text-align: right;\">\n",
       "      <th></th>\n",
       "      <th>num_passengers</th>\n",
       "      <th>purchase_lead</th>\n",
       "      <th>length_of_stay</th>\n",
       "      <th>flight_hour</th>\n",
       "      <th>flight_day</th>\n",
       "      <th>route</th>\n",
       "      <th>booking_origin</th>\n",
       "      <th>wants_extra_baggage</th>\n",
       "      <th>wants_preferred_seat</th>\n",
       "      <th>wants_in_flight_meals</th>\n",
       "      <th>flight_duration</th>\n",
       "      <th>sales_channel_HOT_Internet</th>\n",
       "      <th>sales_channel_HOT_Mobile</th>\n",
       "      <th>trip_type_HOT_CircleTrip</th>\n",
       "      <th>trip_type_HOT_OneWay</th>\n",
       "      <th>trip_type_HOT_RoundTrip</th>\n",
       "      <th>route_part1</th>\n",
       "      <th>route_part2</th>\n",
       "      <th>booking_complete</th>\n",
       "    </tr>\n",
       "  </thead>\n",
       "  <tbody>\n",
       "    <tr>\n",
       "      <th>0</th>\n",
       "      <td>2</td>\n",
       "      <td>262</td>\n",
       "      <td>19</td>\n",
       "      <td>7</td>\n",
       "      <td>6</td>\n",
       "      <td>0.406827</td>\n",
       "      <td>0.574194</td>\n",
       "      <td>1</td>\n",
       "      <td>0</td>\n",
       "      <td>0</td>\n",
       "      <td>5.52</td>\n",
       "      <td>True</td>\n",
       "      <td>False</td>\n",
       "      <td>False</td>\n",
       "      <td>False</td>\n",
       "      <td>True</td>\n",
       "      <td>-0.961104</td>\n",
       "      <td>0.50657</td>\n",
       "      <td>0</td>\n",
       "    </tr>\n",
       "    <tr>\n",
       "      <th>1</th>\n",
       "      <td>1</td>\n",
       "      <td>112</td>\n",
       "      <td>20</td>\n",
       "      <td>3</td>\n",
       "      <td>6</td>\n",
       "      <td>0.406827</td>\n",
       "      <td>0.574194</td>\n",
       "      <td>0</td>\n",
       "      <td>0</td>\n",
       "      <td>0</td>\n",
       "      <td>5.52</td>\n",
       "      <td>True</td>\n",
       "      <td>False</td>\n",
       "      <td>False</td>\n",
       "      <td>False</td>\n",
       "      <td>True</td>\n",
       "      <td>-0.961104</td>\n",
       "      <td>0.50657</td>\n",
       "      <td>0</td>\n",
       "    </tr>\n",
       "    <tr>\n",
       "      <th>2</th>\n",
       "      <td>2</td>\n",
       "      <td>243</td>\n",
       "      <td>22</td>\n",
       "      <td>17</td>\n",
       "      <td>3</td>\n",
       "      <td>0.406827</td>\n",
       "      <td>-0.393610</td>\n",
       "      <td>1</td>\n",
       "      <td>1</td>\n",
       "      <td>0</td>\n",
       "      <td>5.52</td>\n",
       "      <td>True</td>\n",
       "      <td>False</td>\n",
       "      <td>False</td>\n",
       "      <td>False</td>\n",
       "      <td>True</td>\n",
       "      <td>-0.961104</td>\n",
       "      <td>0.50657</td>\n",
       "      <td>0</td>\n",
       "    </tr>\n",
       "    <tr>\n",
       "      <th>3</th>\n",
       "      <td>1</td>\n",
       "      <td>96</td>\n",
       "      <td>31</td>\n",
       "      <td>4</td>\n",
       "      <td>6</td>\n",
       "      <td>0.406827</td>\n",
       "      <td>0.574194</td>\n",
       "      <td>0</td>\n",
       "      <td>0</td>\n",
       "      <td>1</td>\n",
       "      <td>5.52</td>\n",
       "      <td>True</td>\n",
       "      <td>False</td>\n",
       "      <td>False</td>\n",
       "      <td>False</td>\n",
       "      <td>True</td>\n",
       "      <td>-0.961104</td>\n",
       "      <td>0.50657</td>\n",
       "      <td>0</td>\n",
       "    </tr>\n",
       "    <tr>\n",
       "      <th>4</th>\n",
       "      <td>2</td>\n",
       "      <td>68</td>\n",
       "      <td>22</td>\n",
       "      <td>15</td>\n",
       "      <td>3</td>\n",
       "      <td>0.406827</td>\n",
       "      <td>-0.393610</td>\n",
       "      <td>1</td>\n",
       "      <td>0</td>\n",
       "      <td>1</td>\n",
       "      <td>5.52</td>\n",
       "      <td>True</td>\n",
       "      <td>False</td>\n",
       "      <td>False</td>\n",
       "      <td>False</td>\n",
       "      <td>True</td>\n",
       "      <td>-0.961104</td>\n",
       "      <td>0.50657</td>\n",
       "      <td>0</td>\n",
       "    </tr>\n",
       "  </tbody>\n",
       "</table>\n",
       "</div>"
      ],
      "text/plain": [
       "   num_passengers  purchase_lead  length_of_stay  flight_hour  flight_day  \\\n",
       "0               2            262              19            7           6   \n",
       "1               1            112              20            3           6   \n",
       "2               2            243              22           17           3   \n",
       "3               1             96              31            4           6   \n",
       "4               2             68              22           15           3   \n",
       "\n",
       "      route  booking_origin  wants_extra_baggage  wants_preferred_seat  \\\n",
       "0  0.406827        0.574194                    1                     0   \n",
       "1  0.406827        0.574194                    0                     0   \n",
       "2  0.406827       -0.393610                    1                     1   \n",
       "3  0.406827        0.574194                    0                     0   \n",
       "4  0.406827       -0.393610                    1                     0   \n",
       "\n",
       "   wants_in_flight_meals  flight_duration  sales_channel_HOT_Internet  \\\n",
       "0                      0             5.52                        True   \n",
       "1                      0             5.52                        True   \n",
       "2                      0             5.52                        True   \n",
       "3                      1             5.52                        True   \n",
       "4                      1             5.52                        True   \n",
       "\n",
       "   sales_channel_HOT_Mobile  trip_type_HOT_CircleTrip  trip_type_HOT_OneWay  \\\n",
       "0                     False                     False                 False   \n",
       "1                     False                     False                 False   \n",
       "2                     False                     False                 False   \n",
       "3                     False                     False                 False   \n",
       "4                     False                     False                 False   \n",
       "\n",
       "   trip_type_HOT_RoundTrip  route_part1  route_part2  booking_complete  \n",
       "0                     True    -0.961104      0.50657                 0  \n",
       "1                     True    -0.961104      0.50657                 0  \n",
       "2                     True    -0.961104      0.50657                 0  \n",
       "3                     True    -0.961104      0.50657                 0  \n",
       "4                     True    -0.961104      0.50657                 0  "
      ]
     },
     "execution_count": 3,
     "metadata": {},
     "output_type": "execute_result"
    }
   ],
   "source": [
    "# Load preprocessed datasate into pandas Dataframe\n",
    "df = pd.read_csv(\"data/t2p2-bool-numerical.csv\", encoding=\"ISO-8859-1\")\n",
    "df.head()"
   ]
  },
  {
   "cell_type": "code",
   "execution_count": 4,
   "metadata": {},
   "outputs": [
    {
     "name": "stdout",
     "output_type": "stream",
     "text": [
      "<class 'pandas.core.frame.DataFrame'>\n",
      "RangeIndex: 50000 entries, 0 to 49999\n",
      "Data columns (total 19 columns):\n",
      " #   Column                      Non-Null Count  Dtype  \n",
      "---  ------                      --------------  -----  \n",
      " 0   num_passengers              50000 non-null  int64  \n",
      " 1   purchase_lead               50000 non-null  int64  \n",
      " 2   length_of_stay              50000 non-null  int64  \n",
      " 3   flight_hour                 50000 non-null  int64  \n",
      " 4   flight_day                  50000 non-null  int64  \n",
      " 5   route                       50000 non-null  float64\n",
      " 6   booking_origin              50000 non-null  float64\n",
      " 7   wants_extra_baggage         50000 non-null  int64  \n",
      " 8   wants_preferred_seat        50000 non-null  int64  \n",
      " 9   wants_in_flight_meals       50000 non-null  int64  \n",
      " 10  flight_duration             50000 non-null  float64\n",
      " 11  sales_channel_HOT_Internet  50000 non-null  bool   \n",
      " 12  sales_channel_HOT_Mobile    50000 non-null  bool   \n",
      " 13  trip_type_HOT_CircleTrip    50000 non-null  bool   \n",
      " 14  trip_type_HOT_OneWay        50000 non-null  bool   \n",
      " 15  trip_type_HOT_RoundTrip     50000 non-null  bool   \n",
      " 16  route_part1                 50000 non-null  float64\n",
      " 17  route_part2                 50000 non-null  float64\n",
      " 18  booking_complete            50000 non-null  int64  \n",
      "dtypes: bool(5), float64(5), int64(9)\n",
      "memory usage: 5.6 MB\n"
     ]
    }
   ],
   "source": [
    "df.info()"
   ]
  },
  {
   "cell_type": "markdown",
   "metadata": {},
   "source": [
    "# Data Manager"
   ]
  },
  {
   "cell_type": "code",
   "execution_count": 5,
   "metadata": {},
   "outputs": [],
   "source": [
    "# Data Manager\n",
    "Data_manager = []\n",
    "\n",
    "def append_learning(algo_method, algo_type, accuracy, algorithm_list):\n",
    "    \"\"\"\n",
    "    Append algorithm information to a list.\n",
    "\n",
    "    Parameters:\n",
    "        algo_method (str): The name of the machine learning algorithm or method.\n",
    "        algo_type (str): The type of algorithm (e.g., Supervised, Unsupervised).\n",
    "        accuracy (float): The accuracy achieved by the algorithm.\n",
    "        algorithm_list (list): The list to which information will be appended.\n",
    "    \"\"\"\n",
    "    algorithm_info = {\n",
    "        \"Method\": algo_method,\n",
    "        \"Type\": algo_type,\n",
    "        \"Accuracy\": accuracy\n",
    "    }\n",
    "    algorithm_list.append(algorithm_info)\n"
   ]
  },
  {
   "cell_type": "markdown",
   "metadata": {},
   "source": [
    "# 1 - Linear Machine Learning Algorithms\n"
   ]
  },
  {
   "cell_type": "code",
   "execution_count": 6,
   "metadata": {},
   "outputs": [],
   "source": [
    "# Linear Machine Learning Algorithms\n",
    "algo_method = 'Linear Machine Learning Algorithms'"
   ]
  },
  {
   "cell_type": "markdown",
   "metadata": {},
   "source": [
    "## Logistic Regression"
   ]
  },
  {
   "cell_type": "code",
   "execution_count": 7,
   "metadata": {},
   "outputs": [],
   "source": [
    "## Logistic Regression\n",
    "algo_type = 'Logistic Regression'"
   ]
  },
  {
   "cell_type": "code",
   "execution_count": 8,
   "metadata": {},
   "outputs": [],
   "source": [
    "from sklearn.model_selection import train_test_split, GridSearchCV\n",
    "from sklearn.linear_model import LogisticRegression\n",
    "from sklearn.metrics import accuracy_score\n",
    "\n",
    "# Load your dataset into a DataFrame (replace 'your_data.csv' with your actual file path)\n",
    "\n",
    "# Split the dataset into features (X) and labels (y)\n",
    "X = df.iloc[:, :-1]  # Features (all columns except the last one)\n",
    "y = df.iloc[:, -1]  # Label (the last column)\n",
    "\n",
    "# Split the data into a training set and a testing set (adjust test_size as needed)\n",
    "X_train, X_test, y_train, y_test = train_test_split(X, y, test_size=0.2, random_state=42)\n",
    "\n",
    "# Create and train a Logistic Regression model\n",
    "model = LogisticRegression(max_iter=1000)  # You can adjust hyperparameters\n",
    "model.fit(X_train, y_train)\n",
    "\n",
    "# Make predictions on the test set\n",
    "y_pred = model.predict(X_test)\n",
    "\n",
    "# Calculate the accuracy of the model\n",
    "accuracy = accuracy_score(y_test, y_pred)\n",
    "append_learning(algo_method, algo_type, accuracy, Data_manager)"
   ]
  },
  {
   "cell_type": "markdown",
   "metadata": {},
   "source": [
    "## Linear Discriminant Analysis"
   ]
  },
  {
   "cell_type": "code",
   "execution_count": 9,
   "metadata": {},
   "outputs": [],
   "source": [
    "## Linear Discriminant Analysis\n",
    "algo_type = 'Linear Discriminant Analysis'"
   ]
  },
  {
   "cell_type": "code",
   "execution_count": 10,
   "metadata": {},
   "outputs": [],
   "source": [
    "from sklearn.discriminant_analysis import LinearDiscriminantAnalysis\n",
    "from sklearn.model_selection import train_test_split\n",
    "from sklearn.metrics import accuracy_score\n",
    "\n",
    "# Load your dataset (replace X and y with your features and labels)\n",
    "\n",
    "# Split the dataset into training and testing sets\n",
    "X_train, X_test, y_train, y_test = train_test_split(X, y, test_size=0.2, random_state=42)\n",
    "\n",
    "# Create and train the LDA model\n",
    "lda = LinearDiscriminantAnalysis()\n",
    "lda.fit(X_train, y_train)\n",
    "\n",
    "# If you want to use LDA as a classifier, evaluate its performance\n",
    "y_pred = lda.predict(X_test)\n",
    "accuracy = accuracy_score(y_test, y_pred)\n",
    "append_learning(algo_method, algo_type, accuracy, Data_manager)"
   ]
  },
  {
   "cell_type": "markdown",
   "metadata": {},
   "source": [
    "# 2 - Three Method"
   ]
  },
  {
   "cell_type": "code",
   "execution_count": 11,
   "metadata": {},
   "outputs": [],
   "source": [
    "# Three Method\n",
    "algo_method = 'Three Method'"
   ]
  },
  {
   "cell_type": "markdown",
   "metadata": {},
   "source": [
    "## CART"
   ]
  },
  {
   "cell_type": "code",
   "execution_count": 12,
   "metadata": {},
   "outputs": [],
   "source": [
    "## CART\n",
    "algo_type = 'CART'"
   ]
  },
  {
   "cell_type": "code",
   "execution_count": 13,
   "metadata": {},
   "outputs": [],
   "source": [
    "from sklearn.model_selection import train_test_split\n",
    "from sklearn.tree import DecisionTreeClassifier\n",
    "from sklearn.metrics import accuracy_score\n",
    "\n",
    "\n",
    "# Split the dataset into training and testing sets\n",
    "X_train, X_test, y_train, y_test = train_test_split(X, y, test_size=0.2, random_state=42)\n",
    "\n",
    "# Create and train a Decision Tree Classifier\n",
    "clf = DecisionTreeClassifier()\n",
    "clf.fit(X_train, y_train)\n",
    "\n",
    "# Predict on the test set\n",
    "y_pred = clf.predict(X_test)\n",
    "\n",
    "# Calculate the accuracy\n",
    "accuracy = accuracy_score(y_test, y_pred)\n",
    "append_learning(algo_method, algo_type, accuracy, Data_manager)"
   ]
  },
  {
   "cell_type": "markdown",
   "metadata": {},
   "source": [
    "## Random Forest "
   ]
  },
  {
   "cell_type": "code",
   "execution_count": 14,
   "metadata": {},
   "outputs": [],
   "source": [
    "## Random Forest \n",
    "algo_type = 'Random Forest'"
   ]
  },
  {
   "cell_type": "code",
   "execution_count": 15,
   "metadata": {},
   "outputs": [],
   "source": [
    "from sklearn.model_selection import train_test_split\n",
    "from sklearn.ensemble import RandomForestClassifier\n",
    "from sklearn.metrics import accuracy_score\n",
    "\n",
    "\n",
    "# Split the data into training and testing sets\n",
    "X_train, X_test, y_train, y_test = train_test_split(X, y, test_size=0.2, random_state=42)\n",
    "\n",
    "# Create a Random Forest classifier\n",
    "rf_classifier = RandomForestClassifier(n_estimators=100, random_state=42)\n",
    "\n",
    "# Train the classifier on the training data\n",
    "rf_classifier.fit(X_train, y_train)\n",
    "\n",
    "# Make predictions on the testing data\n",
    "y_pred = rf_classifier.predict(X_test)\n",
    "\n",
    "# Calculate and print the accuracy of the model\n",
    "accuracy = accuracy_score(y_test, y_pred)\n",
    "append_learning(algo_method, algo_type, accuracy, Data_manager)"
   ]
  },
  {
   "cell_type": "markdown",
   "metadata": {},
   "source": [
    "## Gradient Boosting"
   ]
  },
  {
   "cell_type": "code",
   "execution_count": 16,
   "metadata": {},
   "outputs": [],
   "source": [
    "## Gradient Boosting\n",
    "algo_type = 'Gradient Boosting'"
   ]
  },
  {
   "cell_type": "code",
   "execution_count": 17,
   "metadata": {},
   "outputs": [],
   "source": [
    "from sklearn.model_selection import train_test_split\n",
    "from sklearn.ensemble import GradientBoostingClassifier\n",
    "from sklearn.metrics import accuracy_score\n",
    "\n",
    "\n",
    "# Split the data into training and testing sets\n",
    "X_train, X_test, y_train, y_test = train_test_split(X, y, test_size=0.2, random_state=42)\n",
    "\n",
    "# Create and train the Gradient Boosting model\n",
    "model = GradientBoostingClassifier(n_estimators=100, learning_rate=0.1, max_depth=3, random_state=42)\n",
    "model.fit(X_train, y_train)\n",
    "\n",
    "# Make predictions on the test set\n",
    "y_pred = model.predict(X_test)\n",
    "\n",
    "# Calculate accuracy\n",
    "accuracy = accuracy_score(y_test, y_pred)\n",
    "append_learning(algo_method, algo_type, accuracy, Data_manager)"
   ]
  },
  {
   "cell_type": "markdown",
   "metadata": {},
   "source": [
    "## Decision Tree Classifier"
   ]
  },
  {
   "cell_type": "code",
   "execution_count": 18,
   "metadata": {},
   "outputs": [],
   "source": [
    "## Decision Tree Classifier\n",
    "algo_type = 'Decision Tree Classifier'"
   ]
  },
  {
   "cell_type": "code",
   "execution_count": 19,
   "metadata": {},
   "outputs": [],
   "source": [
    "from sklearn.model_selection import train_test_split\n",
    "from sklearn.tree import DecisionTreeClassifier\n",
    "from sklearn.metrics import accuracy_score\n",
    "\n",
    "# Split the dataset into training and testing sets (you can adjust the test_size as needed)\n",
    "X_train, X_test, y_train, y_test = train_test_split(X, y, test_size=0.2, random_state=42)\n",
    "\n",
    "# Create a C4.5 decision tree classifier\n",
    "clf = DecisionTreeClassifier(criterion='entropy')  # Use 'entropy' as the splitting criterion (C4.5)\n",
    "\n",
    "# Train the model on the training data\n",
    "clf.fit(X_train, y_train)\n",
    "\n",
    "# Make predictions on the test data\n",
    "y_pred = clf.predict(X_test)\n",
    "\n",
    "# Calculate the accuracy of the model\n",
    "accuracy = accuracy_score(y_test, y_pred)\n",
    "append_learning(algo_method, algo_type, accuracy, Data_manager)"
   ]
  },
  {
   "cell_type": "markdown",
   "metadata": {},
   "source": [
    "# Nonlinear Machine Learning Algorithms"
   ]
  },
  {
   "cell_type": "code",
   "execution_count": 20,
   "metadata": {},
   "outputs": [],
   "source": [
    "# Nonlinear Machine Learning Algorithms\n",
    "algo_method = 'Nonlinear Machine Learning Algorithms'"
   ]
  },
  {
   "cell_type": "markdown",
   "metadata": {},
   "source": [
    "## KNN (K-Nearest Neighbors)"
   ]
  },
  {
   "cell_type": "code",
   "execution_count": 21,
   "metadata": {},
   "outputs": [],
   "source": [
    "## KNN (K-Nearest Neighbors)\n",
    "algo_type = 'KNN (K-Nearest Neighbors)'"
   ]
  },
  {
   "cell_type": "code",
   "execution_count": 22,
   "metadata": {},
   "outputs": [],
   "source": [
    "from sklearn.model_selection import train_test_split\n",
    "from sklearn.neighbors import KNeighborsClassifier\n",
    "from sklearn.metrics import accuracy_score\n",
    "\n",
    "# Split the dataset into training and testing sets (e.g., 80% train, 20% test)\n",
    "X_train, X_test, y_train, y_test = train_test_split(X, y, test_size=0.2, random_state=42)\n",
    "\n",
    "# Initialize the KNN classifier with a chosen number of neighbors (e.g., 5)\n",
    "knn_classifier = KNeighborsClassifier(n_neighbors=5)\n",
    "\n",
    "# Train the KNN classifier on the training data\n",
    "knn_classifier.fit(X_train, y_train)\n",
    "\n",
    "# Predict the labels for the test data\n",
    "y_pred = knn_classifier.predict(X_test)\n",
    "\n",
    "# Calculate and print the accuracy\n",
    "accuracy = accuracy_score(y_test, y_pred)\n",
    "append_learning(algo_method, algo_type, accuracy, Data_manager)"
   ]
  },
  {
   "cell_type": "markdown",
   "metadata": {},
   "source": [
    "## Naive Bayes"
   ]
  },
  {
   "cell_type": "code",
   "execution_count": 23,
   "metadata": {},
   "outputs": [],
   "source": [
    "## Naive Bayes\n",
    "algo_type = 'Naive Bayes'"
   ]
  },
  {
   "cell_type": "code",
   "execution_count": 24,
   "metadata": {},
   "outputs": [],
   "source": [
    "from sklearn.model_selection import train_test_split\n",
    "from sklearn.naive_bayes import GaussianNB\n",
    "from sklearn.metrics import accuracy_score\n",
    "\n",
    "# Split the dataset into training and testing sets\n",
    "X_train, X_test, y_train, y_test = train_test_split(X, y, test_size=0.2, random_state=42)\n",
    "\n",
    "# Create and train a Gaussian Naive Bayes classifier\n",
    "naive_bayes = GaussianNB()\n",
    "naive_bayes.fit(X_train, y_train)\n",
    "\n",
    "# Make predictions on the test set\n",
    "y_pred = naive_bayes.predict(X_test)\n",
    "\n",
    "# Calculate accuracy\n",
    "accuracy = accuracy_score(y_test, y_pred)\n",
    "append_learning(algo_method, algo_type, accuracy, Data_manager)"
   ]
  },
  {
   "cell_type": "markdown",
   "metadata": {},
   "source": [
    "## Classification Tree"
   ]
  },
  {
   "cell_type": "code",
   "execution_count": 25,
   "metadata": {},
   "outputs": [],
   "source": [
    "## Classification Tree\n",
    "algo_type = 'Classification Tree'"
   ]
  },
  {
   "cell_type": "code",
   "execution_count": 26,
   "metadata": {},
   "outputs": [],
   "source": [
    "from sklearn.model_selection import train_test_split\n",
    "from sklearn.tree import DecisionTreeClassifier\n",
    "from sklearn.metrics import accuracy_score, mean_squared_error\n",
    "\n",
    "# Split the dataset into training and testing sets\n",
    "X_train, X_test, y_train, y_test = train_test_split(X, y, test_size=0.2, random_state=42)\n",
    "\n",
    "# CLASSIFICATION TREE\n",
    "classifier = DecisionTreeClassifier(random_state=42)\n",
    "classifier.fit(X_train, y_train)\n",
    "\n",
    "# Make predictions for the classification tree\n",
    "y_pred = classifier.predict(X_test)\n",
    "\n",
    "# Calculate classification accuracy\n",
    "accuracy = accuracy_score(y_test, y_pred)\n",
    "append_learning(algo_method, algo_type, accuracy, Data_manager)"
   ]
  },
  {
   "cell_type": "markdown",
   "metadata": {},
   "source": [
    "# 4 - Other Algos"
   ]
  },
  {
   "cell_type": "code",
   "execution_count": 27,
   "metadata": {},
   "outputs": [],
   "source": [
    "# Nonlinear Machine Learning Algorithms\n",
    "algo_method = 'Other Algos'"
   ]
  },
  {
   "cell_type": "markdown",
   "metadata": {},
   "source": [
    "## K-means"
   ]
  },
  {
   "cell_type": "code",
   "execution_count": 28,
   "metadata": {},
   "outputs": [
    {
     "data": {
      "text/plain": [
       "\" ## K-means\\nalgo_type = 'K-means' \""
      ]
     },
     "execution_count": 28,
     "metadata": {},
     "output_type": "execute_result"
    }
   ],
   "source": [
    "\"\"\" ## K-means\n",
    "algo_type = 'K-means' \"\"\""
   ]
  },
  {
   "cell_type": "code",
   "execution_count": 29,
   "metadata": {},
   "outputs": [
    {
     "data": {
      "text/plain": [
       "' from sklearn.cluster import KMeans\\nfrom sklearn.metrics import accuracy_score\\nfrom sklearn.model_selection import train_test_split\\n\\n# Split the data into training and testing sets\\nX_train, X_test, y_train, y_test = train_test_split(X, y, test_size=0.2, random_state=42)\\n\\n# Apply K-means clustering\\nn_clusters = len(np.unique(y_train))  # Set the number of clusters to the number of unique labels\\nkmeans = KMeans(n_clusters=n_clusters, random_state=42)\\nkmeans.fit(X_train)\\n\\n# Predict cluster labels for the test set\\ny_pred = kmeans.predict(X_test)\\n\\n# Evaluate accuracy using adjusted Rand index\\nfrom sklearn.metrics import adjusted_rand_score\\nadjusted_rand = adjusted_rand_score(y_test, y_pred)\\n\\n# Print the adjusted Rand index as a measure of accuracy\\nprint(f\"Adjusted Rand Index: {adjusted_rand}\") '"
      ]
     },
     "execution_count": 29,
     "metadata": {},
     "output_type": "execute_result"
    }
   ],
   "source": [
    "\"\"\" from sklearn.cluster import KMeans\n",
    "from sklearn.metrics import accuracy_score\n",
    "from sklearn.model_selection import train_test_split\n",
    "\n",
    "# Split the data into training and testing sets\n",
    "X_train, X_test, y_train, y_test = train_test_split(X, y, test_size=0.2, random_state=42)\n",
    "\n",
    "# Apply K-means clustering\n",
    "n_clusters = len(np.unique(y_train))  # Set the number of clusters to the number of unique labels\n",
    "kmeans = KMeans(n_clusters=n_clusters, random_state=42)\n",
    "kmeans.fit(X_train)\n",
    "\n",
    "# Predict cluster labels for the test set\n",
    "y_pred = kmeans.predict(X_test)\n",
    "\n",
    "# Evaluate accuracy using adjusted Rand index\n",
    "from sklearn.metrics import adjusted_rand_score\n",
    "adjusted_rand = adjusted_rand_score(y_test, y_pred)\n",
    "\n",
    "# Print the adjusted Rand index as a measure of accuracy\n",
    "print(f\"Adjusted Rand Index: {adjusted_rand}\") \"\"\"\n"
   ]
  },
  {
   "cell_type": "markdown",
   "metadata": {},
   "source": [
    "## Apriori"
   ]
  },
  {
   "cell_type": "code",
   "execution_count": 30,
   "metadata": {},
   "outputs": [
    {
     "data": {
      "text/plain": [
       "\" ## Apriori\\nalgo_type = 'Apriori' \""
      ]
     },
     "execution_count": 30,
     "metadata": {},
     "output_type": "execute_result"
    }
   ],
   "source": [
    "\"\"\" ## Apriori\n",
    "algo_type = 'Apriori' \"\"\""
   ]
  },
  {
   "cell_type": "code",
   "execution_count": 31,
   "metadata": {},
   "outputs": [
    {
     "data": {
      "text/plain": [
       "' from sklearn.model_selection import train_test_split\\nfrom sklearn.linear_model import LogisticRegression\\nfrom sklearn.metrics import accuracy_score\\n\\n# 2. Split Data\\nX_train, X_temp, y_train, y_temp = train_test_split(X, y, test_size=0.4, random_state=42)\\nX_val, X_test, y_val, y_test = train_test_split(X_temp, y_temp, test_size=0.5, random_state=42)\\n\\n# 3. Model Selection\\nmodel = LogisticRegression()\\n\\n# 4. Model Training\\nmodel.fit(X_train, y_train)\\n\\n# 5. Model Evaluation\\ny_val_pred = model.predict(X_val)\\naccuracy = accuracy_score(y_val, y_val_pred)\\nprint(f\"Validation Accuracy: {accuracy:.5f}\")\\n\\n\\n# 6. Hyperparameter Tuning (if needed)\\n\\n# 7. Model Testing\\ny_test_pred = model.predict(X_test)\\ntest_accuracy = accuracy_score(y_test, y_test_pred)\\nprint(f\"Test Accuracy: {test_accuracy:.5f}\") '"
      ]
     },
     "execution_count": 31,
     "metadata": {},
     "output_type": "execute_result"
    }
   ],
   "source": [
    "\"\"\" from sklearn.model_selection import train_test_split\n",
    "from sklearn.linear_model import LogisticRegression\n",
    "from sklearn.metrics import accuracy_score\n",
    "\n",
    "# 2. Split Data\n",
    "X_train, X_temp, y_train, y_temp = train_test_split(X, y, test_size=0.4, random_state=42)\n",
    "X_val, X_test, y_val, y_test = train_test_split(X_temp, y_temp, test_size=0.5, random_state=42)\n",
    "\n",
    "# 3. Model Selection\n",
    "model = LogisticRegression()\n",
    "\n",
    "# 4. Model Training\n",
    "model.fit(X_train, y_train)\n",
    "\n",
    "# 5. Model Evaluation\n",
    "y_val_pred = model.predict(X_val)\n",
    "accuracy = accuracy_score(y_val, y_val_pred)\n",
    "print(f\"Validation Accuracy: {accuracy:.5f}\")\n",
    "\n",
    "\n",
    "# 6. Hyperparameter Tuning (if needed)\n",
    "\n",
    "# 7. Model Testing\n",
    "y_test_pred = model.predict(X_test)\n",
    "test_accuracy = accuracy_score(y_test, y_test_pred)\n",
    "print(f\"Test Accuracy: {test_accuracy:.5f}\") \"\"\"\n"
   ]
  },
  {
   "cell_type": "markdown",
   "metadata": {},
   "source": [
    "## EM"
   ]
  },
  {
   "cell_type": "code",
   "execution_count": 32,
   "metadata": {},
   "outputs": [
    {
     "data": {
      "text/plain": [
       "\" ## EM\\nalgo_type = 'EM' \""
      ]
     },
     "execution_count": 32,
     "metadata": {},
     "output_type": "execute_result"
    }
   ],
   "source": [
    "\"\"\" ## EM\n",
    "algo_type = 'EM' \"\"\""
   ]
  },
  {
   "cell_type": "code",
   "execution_count": 33,
   "metadata": {},
   "outputs": [
    {
     "data": {
      "text/plain": [
       "' from sklearn.mixture import GaussianMixture\\nfrom sklearn.metrics import accuracy_score\\nfrom sklearn.model_selection import train_test_split\\n\\nX_train, X_test, y_train, y_test = train_test_split(X, y, test_size=0.2, random_state=42)\\n\\n# Initialize the Gaussian Mixture Model\\nn_components = 2  # Number of components (you can adjust this)\\ngmm = GaussianMixture(n_components=n_components, random_state=0)\\n\\n# Fit the model to the training data\\ngmm.fit(X_train)\\n\\n# Predict the labels for the testing set\\ny_pred = gmm.predict(X_test)\\n\\n# Calculate the accuracy of your EM algorithm\\naccuracy = accuracy_score(y_test, y_pred)\\nprint(f\"Accuracy: {accuracy:.5f}\") '"
      ]
     },
     "execution_count": 33,
     "metadata": {},
     "output_type": "execute_result"
    }
   ],
   "source": [
    "\"\"\" from sklearn.mixture import GaussianMixture\n",
    "from sklearn.metrics import accuracy_score\n",
    "from sklearn.model_selection import train_test_split\n",
    "\n",
    "X_train, X_test, y_train, y_test = train_test_split(X, y, test_size=0.2, random_state=42)\n",
    "\n",
    "# Initialize the Gaussian Mixture Model\n",
    "n_components = 2  # Number of components (you can adjust this)\n",
    "gmm = GaussianMixture(n_components=n_components, random_state=0)\n",
    "\n",
    "# Fit the model to the training data\n",
    "gmm.fit(X_train)\n",
    "\n",
    "# Predict the labels for the testing set\n",
    "y_pred = gmm.predict(X_test)\n",
    "\n",
    "# Calculate the accuracy of your EM algorithm\n",
    "accuracy = accuracy_score(y_test, y_pred)\n",
    "print(f\"Accuracy: {accuracy:.5f}\") \"\"\""
   ]
  },
  {
   "cell_type": "markdown",
   "metadata": {},
   "source": [
    "## AdaBoost"
   ]
  },
  {
   "cell_type": "code",
   "execution_count": 34,
   "metadata": {},
   "outputs": [],
   "source": [
    "## AdaBoost\n",
    "algo_type = 'AdaBoost'"
   ]
  },
  {
   "cell_type": "code",
   "execution_count": 35,
   "metadata": {},
   "outputs": [],
   "source": [
    "from sklearn.model_selection import train_test_split\n",
    "from sklearn.ensemble import AdaBoostClassifier\n",
    "from sklearn.metrics import accuracy_score\n",
    "\n",
    "# Split the data into training and testing sets\n",
    "X_train, X_test, y_train, y_test = train_test_split(X, y, test_size=0.2, random_state=42)\n",
    "\n",
    "# Create an AdaBoost classifier\n",
    "adaboost_classifier = AdaBoostClassifier(n_estimators=50, random_state=42)\n",
    "\n",
    "# Train the classifier on the training data\n",
    "adaboost_classifier.fit(X_train, y_train)\n",
    "\n",
    "# Make predictions on the test data\n",
    "y_pred = adaboost_classifier.predict(X_test)\n",
    "\n",
    "# Calculate accuracy\n",
    "accuracy = accuracy_score(y_test, y_pred)\n",
    "append_learning(algo_method, algo_type, accuracy, Data_manager)"
   ]
  },
  {
   "cell_type": "markdown",
   "metadata": {},
   "source": [
    "# Results"
   ]
  },
  {
   "cell_type": "code",
   "execution_count": 36,
   "metadata": {},
   "outputs": [
    {
     "name": "stdout",
     "output_type": "stream",
     "text": [
      "Accuracy | Model Type                    | Algorithm Method\n",
      "------------------------------------------------------------------------------\n",
      "85.43%   | Random Forest                 |  Three Method\n",
      "85.28%   | Gradient Boosting             |  Three Method\n",
      "85.25%   | AdaBoost                      |  Other Algos\n",
      "85.20%   | Logistic Regression           |  Linear Machine Learning Algorithms\n",
      "85.20%   | Linear Discriminant Analysis  |  Linear Machine Learning Algorithms\n",
      "83.33%   | KNN (K-Nearest Neighbors)     |  Nonlinear Machine Learning Algorithms\n",
      "78.78%   | Decision Tree Classifier      |  Three Method\n",
      "78.35%   | CART                          |  Three Method\n",
      "78.02%   | Classification Tree           |  Nonlinear Machine Learning Algorithms\n",
      "45.73%   | Naive Bayes                   |  Nonlinear Machine Learning Algorithms\n"
     ]
    }
   ],
   "source": [
    "# Sort the algorithm_list by highest accuracy\n",
    "sorted_algorithms = sorted(Data_manager, key=lambda x: x[\"Accuracy\"], reverse=True)\n",
    "# Find the longest 'Type' value in the algorithm_list\n",
    "max_type_length = max(len(algo_info['Type']) for algo_info in Data_manager)\n",
    "\n",
    "blank = \"\"\n",
    "\n",
    "print(f\"Accuracy | Model Type{blank:<{max_type_length-8}}| Algorithm Method\")\n",
    "print(\"------------------------------------------------------------------------------\")\n",
    "\n",
    "# Print the sorted list with accuracy as a percentage and equal spacing\n",
    "for algo_info in sorted_algorithms:\n",
    "    method = algo_info['Method']\n",
    "    algo_type = algo_info['Type']\n",
    "    accuracy = algo_info['Accuracy'] * 100  # Convert accuracy to percentage\n",
    "    # Use f-strings with fixed width formatting based on the longest 'Type' value\n",
    "    print(f\"{accuracy:.2f}%{blank:<{1}}  | {algo_type:<{max_type_length}}  |  {method}\")\n",
    "\n",
    "# Output will be sorted by highest accuracy, with formatted accuracy and equal spacing\n",
    "\n"
   ]
  },
  {
   "cell_type": "markdown",
   "metadata": {},
   "source": []
  },
  {
   "cell_type": "code",
   "execution_count": 37,
   "metadata": {},
   "outputs": [
    {
     "data": {
      "image/png": "[encoded data removed]",
      "text/plain": [
       "<Figure size 1000x600 with 1 Axes>"
      ]
     },
     "metadata": {},
     "output_type": "display_data"
    }
   ],
   "source": [
    "import pandas as pd\n",
    "from sklearn.ensemble import RandomForestClassifier\n",
    "import matplotlib.pyplot as plt\n",
    "\n",
    "# Assuming your dataset is stored in a DataFrame named df\n",
    "# Replace 'df' with your actual DataFrame name\n",
    "\n",
    "# Define features and the target variable\n",
    "X = df.drop(\"booking_complete\", axis=1)\n",
    "y = df[\"booking_complete\"]\n",
    "\n",
    "# Create and fit a Random Forest Classifier\n",
    "clf = RandomForestClassifier(n_estimators=100, random_state=0)\n",
    "clf.fit(X, y)\n",
    "\n",
    "# Get feature importances\n",
    "feature_importances = clf.feature_importances_\n",
    "\n",
    "# Create a DataFrame to display feature names and their importances\n",
    "feature_importance_df = pd.DataFrame({'Feature': X.columns, 'Importance': feature_importances})\n",
    "feature_importance_df = feature_importance_df.sort_values(by='Importance', ascending=False)\n",
    "\n",
    "# Plot the feature importances\n",
    "plt.figure(figsize=(10, 6))\n",
    "plt.barh(feature_importance_df['Feature'], feature_importance_df['Importance'])\n",
    "plt.xlabel('Feature Importance')\n",
    "plt.ylabel('Feature')\n",
    "plt.title('Feature Importance for Booking Complete')\n",
    "plt.show()\n"
   ]
  },
  {
   "cell_type": "code",
   "execution_count": 42,
   "metadata": {},
   "outputs": [
    {
     "name": "stdout",
     "output_type": "stream",
     "text": [
      "[['num_passengers', 0.04875753930569538], ['purchase_lead', 0.17959880552259086], ['length_of_stay', 0.11974755822857167], ['flight_hour', 0.13365531514693127], ['flight_day', 0.08910894988736837], ['route', 0.08816400122651684], ['booking_origin', 0.08841471950958117], ['wants_extra_baggage', 0.015904579213756393], ['wants_preferred_seat', 0.018346728697819732], ['wants_in_flight_meals', 0.024153361671860305], ['flight_duration', 0.04759390690019046], ['sales_channel_HOT_Internet', 0.007448224288207775], ['sales_channel_HOT_Mobile', 0.0075095578667309665], ['trip_type_HOT_CircleTrip', 0.00030342478817120517], ['trip_type_HOT_OneWay', 0.0007354226748655243], ['trip_type_HOT_RoundTrip', 0.0009161612412644307], ['route_part1', 0.07065416127801696], ['route_part2', 0.0589875825518608]]\n"
     ]
    }
   ],
   "source": [
    "# Extract feature importances\n",
    "feature_importances = clf.feature_importances_\n",
    "\n",
    "# Create a dictionary to store feature names and their importances\n",
    "feature_importance_dict = dict(zip(X.columns, feature_importances))\n",
    "\n",
    "\n",
    "def return_column_names(df):\n",
    "    return df.columns\n",
    "\n",
    "colun_names = return_column_names(df)\n",
    "\n",
    "\n",
    "list_features = []\n",
    "\n",
    "for name in colun_names:\n",
    "    if name != 'booking_complete':\n",
    "        importance_of_num_passengers = feature_importance_dict[name]\n",
    "        list_features.append([name, importance_of_num_passengers])\n",
    "\n",
    "print(list_features)"
   ]
  },
  {
   "cell_type": "code",
   "execution_count": 43,
   "metadata": {},
   "outputs": [
    {
     "name": "stdout",
     "output_type": "stream",
     "text": [
      "purchase_lead: 100.00%\n",
      "flight_hour: 74.42%\n",
      "length_of_stay: 66.68%\n",
      "flight_day: 49.62%\n",
      "booking_origin: 49.23%\n",
      "route: 49.09%\n",
      "route_part1: 39.34%\n",
      "route_part2: 32.84%\n",
      "num_passengers: 27.15%\n",
      "flight_duration: 26.50%\n",
      "wants_in_flight_meals: 13.45%\n",
      "wants_preferred_seat: 10.22%\n",
      "wants_extra_baggage: 8.86%\n",
      "sales_channel_HOT_Mobile: 4.18%\n",
      "sales_channel_HOT_Internet: 4.15%\n",
      "trip_type_HOT_RoundTrip: 0.51%\n",
      "trip_type_HOT_OneWay: 0.41%\n",
      "trip_type_HOT_CircleTrip: 0.17%\n"
     ]
    }
   ],
   "source": [
    "# Given the list of feature names and their importances\n",
    "feature_importances = [['num_passengers', 0.04875753930569538], ['purchase_lead', 0.17959880552259086], ['length_of_stay', 0.11974755822857167], ['flight_hour', 0.13365531514693127], ['flight_day', 0.08910894988736837], ['route', 0.08816400122651684], ['booking_origin', 0.08841471950958117], ['wants_extra_baggage', 0.015904579213756393], ['wants_preferred_seat', 0.018346728697819732], ['wants_in_flight_meals', 0.024153361671860305], ['flight_duration', 0.04759390690019046], ['sales_channel_HOT_Internet', 0.007448224288207775], ['sales_channel_HOT_Mobile', 0.0075095578667309665], ['trip_type_HOT_CircleTrip', 0.00030342478817120517], ['trip_type_HOT_OneWay', 0.0007354226748655243], ['trip_type_HOT_RoundTrip', 0.0009161612412644307], ['route_part1', 0.07065416127801696], ['route_part2', 0.0589875825518608]]\n",
    "\n",
    "# Find the maximum importance value\n",
    "max_importance = max(importance for feature, importance in feature_importances)\n",
    "\n",
    "# Scale all importances to be in the range of 0 to 100%\n",
    "scaled_feature_importances = [[feature, (importance / max_importance) * 100] for feature, importance in feature_importances]\n",
    "\n",
    "# Sort the scaled importances in descending order\n",
    "sorted_feature_importances = sorted(scaled_feature_importances, key=lambda x: x[1], reverse=True)\n",
    "\n",
    "# Print the sorted feature importances\n",
    "for feature, scaled_importance in sorted_feature_importances:\n",
    "    print(f\"{feature}: {scaled_importance:.2f}%\")\n"
   ]
  }
 ],
 "metadata": {
  "kernelspec": {
   "display_name": "Python 3.9.13 ('venv': venv)",
   "language": "python",
   "name": "python3"
  },
  "language_info": {
   "codemirror_mode": {
    "name": "ipython",
    "version": 3
   },
   "file_extension": ".py",
   "mimetype": "text/x-python",
   "name": "python",
   "nbconvert_exporter": "python",
   "pygments_lexer": "ipython3",
   "version": "3.11.6"
  },
  "orig_nbformat": 4,
  "vscode": {
   "interpreter": {
    "hash": "4f7924c4c56b083e0e50eadfe7ef592a7a8ef70df33a0047f82280e6be1afe15"
   }
  }
 },
 "nbformat": 4,
 "nbformat_minor": 2
}
